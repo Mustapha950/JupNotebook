{
 "cells": [
  {
   "cell_type": "markdown",
   "id": "c1c01802-ddcd-4503-bc67-a4f4903778ad",
   "metadata": {},
   "source": [
    "# My Jupyter Notebook on IBM Watson Studio"
   ]
  },
  {
   "cell_type": "markdown",
   "id": "438b2876-2062-42de-85d9-a0cb47350e0c",
   "metadata": {},
   "source": [
    "# Mustapha EL IDRISSI\n",
    "Financial Data Scientist"
   ]
  },
  {
   "cell_type": "markdown",
   "id": "43a6f869-de2c-4a49-aa20-b429cb28fd1b",
   "metadata": {},
   "source": [
    "_I am interested in data science because a financial data scientist needs to apply data science techniques to collect and interpret financial data. This data provides financial data scientists with important insights to help improve their organization's decisions and avoid risks_"
   ]
  },
  {
   "cell_type": "markdown",
   "id": "fb218677-86fb-41fa-b20e-e7b2bea482f0",
   "metadata": {},
   "source": [
    "### our code in the next cell will display the addition of two integers"
   ]
  },
  {
   "cell_type": "code",
   "execution_count": 1,
   "id": "a8b0d855-4553-4066-820d-a1ed234ac9a8",
   "metadata": {},
   "outputs": [
    {
     "data": {
      "text/plain": [
       "4"
      ]
     },
     "execution_count": 1,
     "metadata": {},
     "output_type": "execute_result"
    }
   ],
   "source": [
    "2 + 2"
   ]
  },
  {
   "cell_type": "markdown",
   "id": "90352632-e91a-416a-b036-ad0cab6e3db9",
   "metadata": {},
   "source": [
    "---\n",
    "__http://www.coursera.org__\n",
    "> This is a blockquote.\n",
    "- One\n",
    "- Two\n",
    "- Three\n",
    "- Four"
   ]
  },
  {
   "cell_type": "code",
   "execution_count": null,
   "id": "bf8737f8-411a-4f76-92e6-774ca9708e3c",
   "metadata": {},
   "outputs": [],
   "source": []
  }
 ],
 "metadata": {
  "kernelspec": {
   "display_name": "Python",
   "language": "python",
   "name": "conda-env-python-py"
  },
  "language_info": {
   "codemirror_mode": {
    "name": "ipython",
    "version": 3
   },
   "file_extension": ".py",
   "mimetype": "text/x-python",
   "name": "python",
   "nbconvert_exporter": "python",
   "pygments_lexer": "ipython3",
   "version": "3.7.12"
  }
 },
 "nbformat": 4,
 "nbformat_minor": 5
}
